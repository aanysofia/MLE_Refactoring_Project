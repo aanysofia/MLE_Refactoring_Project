{
 "cells": [
  {
   "cell_type": "code",
   "execution_count": null,
   "metadata": {},
   "outputs": [],
   "source": [
    "# Basic imports\n",
    "import pandas as pd\n",
    "import numpy as np\n"
   ]
  },
  {
   "cell_type": "code",
   "execution_count": null,
   "metadata": {},
   "outputs": [],
   "source": [
    "# We will drop this row\n",
    "kc_data.drop(15856, axis=0, inplace=True)"
   ]
  },
  {
   "cell_type": "code",
   "execution_count": null,
   "metadata": {},
   "outputs": [],
   "source": [
    "def bath_bed_ratio_outlier(df):\n",
    "    df.copy()\n",
    "    df[\"bath_bed_ratio\"] = df[\"bathrooms\"] / df[\"bedrooms\"]\n",
    "    for idx, ratio in enumerate(df[\"bath_bed_ratio\"]):\n",
    "        if ratio >= 2:\n",
    "            df.drop(idx, inplace=True)\n",
    "        elif ratio <= 0.10:\n",
    "            df.drop(idx, inplace=True)\n",
    "    return df"
   ]
  },
  {
   "cell_type": "code",
   "execution_count": null,
   "metadata": {},
   "outputs": [],
   "source": [
    "# We replace \"?\" with Nan\n",
    "kc_data['sqft_basement'] = kc_data['sqft_basement'].replace('?', np.NaN)\n",
    "# And we change the dtype of the column \"sqft_basement\" to float\n",
    "kc_data['sqft_basement'] = kc_data['sqft_basement'].astype(float)"
   ]
  },
  {
   "cell_type": "code",
   "execution_count": null,
   "metadata": {},
   "outputs": [],
   "source": [
    "# We are calculating the \"sqft_basement\" by substracting sqft_above of sqft_living\n",
    "kc_data.eval('sqft_basement = sqft_living - sqft_above', inplace=True)"
   ]
  },
  {
   "attachments": {},
   "cell_type": "markdown",
   "metadata": {},
   "source": [
    "**Missings Values**\n",
    "\n"
   ]
  },
  {
   "cell_type": "code",
   "execution_count": null,
   "metadata": {},
   "outputs": [],
   "source": [
    "# Summation of the missing values and calculation of the missing values as a percentage\n",
    "missing_values = pd.DataFrame(kc_data.isnull().sum(),columns=['count'])\n",
    "missing_values['percentage'] = (missing_values['count']/kc_data.shape[0]*100).round(2)\n",
    "missing_values.query('count != 0')"
   ]
  },
  {
   "cell_type": "code",
   "execution_count": null,
   "metadata": {},
   "outputs": [],
   "source": [
    "# We display how often the different values of the variable occur.\n",
    "kc_data['view'].value_counts()"
   ]
  },
  {
   "cell_type": "code",
   "execution_count": null,
   "metadata": {},
   "outputs": [],
   "source": [
    "# We replace Nan values in \"view\" with the most frequent expression (0)\n",
    "kc_data['view'].fillna(0, inplace=True)"
   ]
  },
  {
   "cell_type": "code",
   "execution_count": null,
   "metadata": {},
   "outputs": [],
   "source": [
    "# We display how often the different values of the variable occur.\n",
    "kc_data.waterfront.value_counts()"
   ]
  },
  {
   "cell_type": "code",
   "execution_count": null,
   "metadata": {},
   "outputs": [],
   "source": [
    "# We replace Nan values in \"waterfront\" with the most frequent expression (0)\n",
    "kc_data.waterfront.fillna(0, inplace=True)"
   ]
  },
  {
   "cell_type": "code",
   "execution_count": null,
   "metadata": {},
   "outputs": [],
   "source": [
    "# We again look at the missing data\n",
    "missing_values = pd.DataFrame(kc_data.isnull().sum(),columns=['count'])\n",
    "missing_values['percentage'] = missing_values['count']/kc_data.shape[0]*100\n",
    "missing_values.query('count != 0')"
   ]
  },
  {
   "cell_type": "code",
   "execution_count": null,
   "metadata": {},
   "outputs": [],
   "source": [
    "# We will create an empty list in which we will store values\n",
    "last_known_change = []\n",
    "\n",
    "for idx, yr_re in kc_data.yr_renovated.items():\n",
    "    \n",
    "    if str(yr_re) == 'nan' or yr_re == 0.0:\n",
    "        last_known_change.append(kc_data.yr_built[idx])\n",
    "    \n",
    "    else:\n",
    "        last_known_change.append(int(yr_re))"
   ]
  },
  {
   "cell_type": "code",
   "execution_count": null,
   "metadata": {},
   "outputs": [],
   "source": [
    "# We create a new column and take over the values of our previously created list\n",
    "kc_data['last_known_change'] = last_known_change"
   ]
  },
  {
   "cell_type": "code",
   "execution_count": null,
   "metadata": {},
   "outputs": [],
   "source": [
    "# We delete the \"yr_renovated\" and \"yr_built\" columns\n",
    "kc_data.drop(\"yr_renovated\", axis=1, inplace=True)\n",
    "kc_data.drop(\"yr_built\", axis=1, inplace=True)"
   ]
  },
  {
   "cell_type": "code",
   "execution_count": null,
   "metadata": {},
   "outputs": [],
   "source": [
    "# Converting date to \n",
    "kc_data['date'] = pd.to_datetime(kc_data['date'])"
   ]
  },
  {
   "attachments": {},
   "cell_type": "markdown",
   "metadata": {},
   "source": [
    "## Feature Engineering"
   ]
  },
  {
   "cell_type": "code",
   "execution_count": null,
   "metadata": {},
   "outputs": [],
   "source": [
    "# We create a new variable that gives us the price per square foot of living space\n",
    "kc_data['sqft_price'] = (kc_data.price/(kc_data.sqft_living + kc_data.sqft_lot)).round(2)"
   ]
  },
  {
   "cell_type": "code",
   "execution_count": null,
   "metadata": {},
   "outputs": [],
   "source": [
    "kc_data[kc_data['sqft_price']==kc_data['sqft_price'].max()]"
   ]
  },
  {
   "cell_type": "code",
   "execution_count": null,
   "metadata": {},
   "outputs": [],
   "source": [
    "kc_data[kc_data['price']==kc_data['price'].max()]"
   ]
  },
  {
   "cell_type": "code",
   "execution_count": null,
   "metadata": {},
   "outputs": [],
   "source": [
    "# Absolute difference of latitude between centre and property\n",
    "kc_data['delta_lat'] = np.absolute(47.62774- kc_data['lat'])\n",
    "# Absolute difference of longitude between centre and property\n",
    "kc_data['delta_long'] = np.absolute(-122.24194-kc_data['long'])\n",
    "# Distance between centre and property\n",
    "kc_data['center_distance']= ((kc_data['delta_long']* np.cos(np.radians(47.6219)))**2 \n",
    "                                   + kc_data['delta_lat']**2)**(1/2)*2*np.pi*6378/360"
   ]
  },
  {
   "cell_type": "code",
   "execution_count": null,
   "metadata": {},
   "outputs": [],
   "source": [
    "# This function helps us to calculate the distance between the house overlooking the seafront and the other houses.\n",
    "def dist(long, lat, ref_long, ref_lat):\n",
    "    '''dist computes the distance in km to a reference location. Input: long and lat of \n",
    "    the location of interest and ref_long and ref_lat as the long and lat of the reference location'''\n",
    "    delta_long = long - ref_long\n",
    "    delta_lat = lat - ref_lat\n",
    "    delta_long_corr = delta_long * np.cos(np.radians(ref_lat))\n",
    "    return ((delta_long_corr)**2 +(delta_lat)**2)**(1/2)*2*np.pi*6378/360"
   ]
  },
  {
   "cell_type": "code",
   "execution_count": null,
   "metadata": {},
   "outputs": [],
   "source": [
    "# All houses with \"waterfront\" are added to the list\n",
    "water_list= kc_data.query('waterfront == 1')\n",
    "water_list.head()"
   ]
  },
  {
   "cell_type": "code",
   "execution_count": null,
   "metadata": {},
   "outputs": [],
   "source": [
    "water_distance = []\n",
    "# For each row in our data frame we now calculate the distance to the seafront\n",
    "for idx, lat in kc_data.lat.items():\n",
    "    ref_list = []\n",
    "    for x,y in zip(list(water_list.long), list(water_list.lat)):\n",
    "        ref_list.append(dist(kc_data.long[idx], kc_data.lat[idx],x,y).min())\n",
    "    water_distance.append(min(ref_list))"
   ]
  },
  {
   "cell_type": "code",
   "execution_count": null,
   "metadata": {},
   "outputs": [],
   "source": [
    "# wir erstellen eine neue Spalte und übernehmen die Werte unserer vorher erstellten Liste\n",
    "kc_data['water_distance'] = water_distance"
   ]
  }
 ],
 "metadata": {
  "kernelspec": {
   "display_name": "Python 3.9.8 ('.venv': venv)",
   "language": "python",
   "name": "python3"
  },
  "language_info": {
   "codemirror_mode": {
    "name": "ipython",
    "version": 3
   },
   "file_extension": ".py",
   "mimetype": "text/x-python",
   "name": "python",
   "nbconvert_exporter": "python",
   "pygments_lexer": "ipython3",
   "version": "3.11.3"
  },
  "vscode": {
   "interpreter": {
    "hash": "fb7e7bd19e6b082abfa5136f7b755936d5cc9a5dcc8aebb1a765dc8cdd06fcd4"
   }
  }
 },
 "nbformat": 4,
 "nbformat_minor": 4
}
